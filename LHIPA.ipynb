{
 "cells": [
  {
   "cell_type": "markdown",
   "id": "0f2726e8-3063-4948-8a32-afd7932a68ee",
   "metadata": {},
   "source": [
    "## LHIPA calculation\n",
    "\n",
    "### input file:\n",
    "\n",
    "### output file:"
   ]
  },
  {
   "cell_type": "code",
   "execution_count": 2,
   "id": "448f376b-73b0-47ac-9e98-ba1b6fa4222d",
   "metadata": {},
   "outputs": [],
   "source": [
    "import pandas as pd\n",
    "import numpy as np\n",
    "import math, pywt"
   ]
  },
  {
   "cell_type": "code",
   "execution_count": 39,
   "id": "3efd58e9-05e1-45a1-8897-19dcb0c80eae",
   "metadata": {},
   "outputs": [],
   "source": [
    "def modmax(d): \n",
    "    # compute signal modulus \n",
    "    m = [0.0]*len(d) \n",
    "    for i in range(len(d)): \n",
    "        m[i] = math.fabs(d[i]) \n",
    "        \n",
    "    # if value is larger than both neighbours , and strictly \n",
    "    # larger than either, then it is a local maximum \n",
    "    t = [0.0]*len(d) \n",
    "    for i in range(len(d)): \n",
    "        ll = m[i-1] if i >= 1 else m[i] \n",
    "        oo = m[i] \n",
    "        rr = m[i+1] if i < len(d)-2 else m[i] \n",
    "        if (ll <= oo and oo >= rr) and (ll < oo or oo > rr): \n",
    "            # compute magnitude \n",
    "            t[i] = math.sqrt(d[i]**2) \n",
    "        else: \n",
    "            t[i] = 0.0 \n",
    "            \n",
    "    return t"
   ]
  },
  {
   "cell_type": "code",
   "execution_count": 49,
   "id": "44f252f6-423d-4105-a911-382b1353fb26",
   "metadata": {
    "tags": []
   },
   "outputs": [],
   "source": [
    "def lhipa(d):\n",
    "    # find max decomposition level\n",
    "    w = pywt.Wavelet('sym16')\n",
    "    maxlevel = pywt.dwt_max_level(len(d),filter_len=w.dec_len)\n",
    "    print(maxlevel)\n",
    "    \n",
    "    # set high and low frequency band indeces\n",
    "    hif, lof = 1, int(maxlevel/2)\n",
    "    \n",
    "    # get detail coefficients of pupil diameter signal d\n",
    "    cD_H = pywt.downcoef('d', d, 'sym16', 'per', level = hif)\n",
    "    cD_L = pywt.downcoef('d', d, 'sym16', 'per', level = lof)\n",
    "    \n",
    "    # normalize by 1/root(2^(j))\n",
    "    cD_H[:] = [x / math.sqrt(2**hif) for x in cD_H]\n",
    "    cD_L[:] = [x / math.sqrt(2**lof) for x in cD_L]\n",
    "    \n",
    "    # obtain the LH:HF ratio\n",
    "    cD_LH = cD_L\n",
    "    for i in range(len(cD_L)):\n",
    "        cD_LH[i] = cD_L[i] / cD_H[((2**lof)//(2**hif))*i]\n",
    "        \n",
    "    # detect modulus maxima, see Duchowski et al.\n",
    "    cD_LHm = modmax(cD_LH)\n",
    "    \n",
    "    # threshold using universal threshold λuniv = σˆ (2 log n)\n",
    "    # where σˆ is the standard deviation of the noise\n",
    "    λuniv = np.std(cD_LHm) * math.sqrt(2.0*np.log2(len(cD_LHm))) \n",
    "    cD_LHt = pywt.threshold(cD_LHm, λuniv, mode =\"less\")\n",
    "    \n",
    "    # get signal duration (in seconds)\n",
    "    tt = d[-1].timestamp() - d[0].timestamp()\n",
    "    \n",
    "    # compute LHIPA\n",
    "    ctr = 0\n",
    "    for i in range(len(cD_LHt)):\n",
    "        if math.fabs(cD_LHt[i]) > 0: ctr += 1\n",
    "    LHIPA = float(ctr)/tt\n",
    "    \n",
    "    return LHIPA"
   ]
  },
  {
   "cell_type": "code",
   "execution_count": 6,
   "id": "25a2f992-96fa-4e3b-9cad-fbe705494804",
   "metadata": {},
   "outputs": [
    {
     "data": {
      "text/html": [
       "<div>\n",
       "<style scoped>\n",
       "    .dataframe tbody tr th:only-of-type {\n",
       "        vertical-align: middle;\n",
       "    }\n",
       "\n",
       "    .dataframe tbody tr th {\n",
       "        vertical-align: top;\n",
       "    }\n",
       "\n",
       "    .dataframe thead th {\n",
       "        text-align: right;\n",
       "    }\n",
       "</style>\n",
       "<table border=\"1\" class=\"dataframe\">\n",
       "  <thead>\n",
       "    <tr style=\"text-align: right;\">\n",
       "      <th></th>\n",
       "      <th>imotion_unix_timestamp</th>\n",
       "      <th>user_id</th>\n",
       "      <th>SourceStimuliName</th>\n",
       "      <th>gaze_AOI</th>\n",
       "      <th>Blink detected (binary)</th>\n",
       "      <th>ET_pupilAvg</th>\n",
       "    </tr>\n",
       "  </thead>\n",
       "  <tbody>\n",
       "    <tr>\n",
       "      <th>0</th>\n",
       "      <td>1628616621280</td>\n",
       "      <td>P001</td>\n",
       "      <td>A2002</td>\n",
       "      <td>fc_row_5_src_rep</td>\n",
       "      <td>NaN</td>\n",
       "      <td>3.585426</td>\n",
       "    </tr>\n",
       "    <tr>\n",
       "      <th>1</th>\n",
       "      <td>1628616621284</td>\n",
       "      <td>P001</td>\n",
       "      <td>A2002</td>\n",
       "      <td>fc_row_5_src_rep</td>\n",
       "      <td>0.0</td>\n",
       "      <td>3.580101</td>\n",
       "    </tr>\n",
       "    <tr>\n",
       "      <th>2</th>\n",
       "      <td>1628616621287</td>\n",
       "      <td>P001</td>\n",
       "      <td>A2002</td>\n",
       "      <td>fc_row_5_src_rep</td>\n",
       "      <td>0.0</td>\n",
       "      <td>3.562469</td>\n",
       "    </tr>\n",
       "    <tr>\n",
       "      <th>3</th>\n",
       "      <td>1628616621290</td>\n",
       "      <td>P001</td>\n",
       "      <td>A2002</td>\n",
       "      <td>fc_row_5_src_rep</td>\n",
       "      <td>NaN</td>\n",
       "      <td>3.578819</td>\n",
       "    </tr>\n",
       "    <tr>\n",
       "      <th>4</th>\n",
       "      <td>1628616621294</td>\n",
       "      <td>P001</td>\n",
       "      <td>A2002</td>\n",
       "      <td>fc_row_5_src_rep</td>\n",
       "      <td>0.0</td>\n",
       "      <td>3.586250</td>\n",
       "    </tr>\n",
       "  </tbody>\n",
       "</table>\n",
       "</div>"
      ],
      "text/plain": [
       "   imotion_unix_timestamp user_id SourceStimuliName          gaze_AOI  \\\n",
       "0           1628616621280    P001             A2002  fc_row_5_src_rep   \n",
       "1           1628616621284    P001             A2002  fc_row_5_src_rep   \n",
       "2           1628616621287    P001             A2002  fc_row_5_src_rep   \n",
       "3           1628616621290    P001             A2002  fc_row_5_src_rep   \n",
       "4           1628616621294    P001             A2002  fc_row_5_src_rep   \n",
       "\n",
       "   Blink detected (binary)  ET_pupilAvg  \n",
       "0                      NaN     3.585426  \n",
       "1                      0.0     3.580101  \n",
       "2                      0.0     3.562469  \n",
       "3                      NaN     3.578819  \n",
       "4                      0.0     3.586250  "
      ]
     },
     "execution_count": 6,
     "metadata": {},
     "output_type": "execute_result"
    }
   ],
   "source": [
    "df = pd.read_csv('/Volumes/Extreme SSD/research data/good system/database tables/gs_local_gaze_pupil_aoi.csv')\n",
    "df.head()"
   ]
  },
  {
   "cell_type": "code",
   "execution_count": 68,
   "id": "f678bf4d-4aa8-43a4-ab4b-637c380670d1",
   "metadata": {},
   "outputs": [
    {
     "data": {
      "text/plain": [
       "2"
      ]
     },
     "execution_count": 68,
     "metadata": {},
     "output_type": "execute_result"
    }
   ],
   "source": [
    "# input format: 2D array, [[pupil1, timestamp1],[pupil2, timestamp2]..]\n",
    "# input format: 2D array, [[pupil1, pupil2, pupil3,...][timestamp1, timestamp2, timestamp3,...]]\n",
    "\n",
    "pupil_list = []\n",
    "ts_list = []\n",
    "for index, row in df.iterrows():\n",
    "    if index < 500:\n",
    "        pupil_list.append(row['ET_pupilAvg'])\n",
    "        ts_list.append(row['imotion_unix_timestamp'])\n",
    "    else:\n",
    "        break\n",
    "test_list = [pupil_list, ts_list]\n",
    "len(test_list)\n",
    "    "
   ]
  },
  {
   "cell_type": "code",
   "execution_count": 69,
   "id": "16db1cd6-e3b0-4c09-9e5a-17e20603978f",
   "metadata": {},
   "outputs": [
    {
     "name": "stdout",
     "output_type": "stream",
     "text": [
      "4\n"
     ]
    },
    {
     "data": {
      "text/plain": [
       "21.675454012888107"
      ]
     },
     "execution_count": 69,
     "metadata": {},
     "output_type": "execute_result"
    }
   ],
   "source": [
    "a = lhipa_new(test_list)\n",
    "a"
   ]
  },
  {
   "cell_type": "code",
   "execution_count": 62,
   "id": "3b626d4d-2e65-4f40-917e-c059f5493fa4",
   "metadata": {},
   "outputs": [],
   "source": [
    "def lhipa_new(d):\n",
    "    # find max decomposition level\n",
    "    w = pywt.Wavelet('sym16')\n",
    "    maxlevel = pywt.dwt_max_level(len(d[0]),filter_len=w.dec_len)\n",
    "    print(maxlevel)\n",
    "    \n",
    "    # set high and low frequency band indeces\n",
    "    hif, lof = 1, int(maxlevel/2)\n",
    "    \n",
    "    # get detail coefficients of pupil diameter signal d\n",
    "    cD_H = pywt.downcoef('d', d[0], 'sym16', 'per', level = hif)\n",
    "    cD_L = pywt.downcoef('d', d[0], 'sym16', 'per', level = lof)\n",
    "    \n",
    "    # normalize by 1/root(2^(j))\n",
    "    cD_H[:] = [x / math.sqrt(2**hif) for x in cD_H]\n",
    "    cD_L[:] = [x / math.sqrt(2**lof) for x in cD_L]\n",
    "    \n",
    "    # obtain the LH:HF ratio\n",
    "    cD_LH = cD_L\n",
    "    for i in range(len(cD_L)):\n",
    "        cD_LH[i] = cD_L[i] / cD_H[((2**lof)//(2**hif))*i]\n",
    "        \n",
    "    # detect modulus maxima, see Duchowski et al.\n",
    "    cD_LHm = modmax(cD_LH)\n",
    "    \n",
    "    # threshold using universal threshold λuniv = σˆ (2 log n)\n",
    "    # where σˆ is the standard deviation of the noise\n",
    "    λuniv = np.std(cD_LHm) * math.sqrt(2.0*np.log2(len(cD_LHm))) \n",
    "    cD_LHt = pywt.threshold(cD_LHm, λuniv, mode =\"less\")\n",
    "    \n",
    "    # get signal duration (in seconds)\n",
    "    tt = (d[1][-1] - d[1][0]) / 1000\n",
    "    \n",
    "    # compute LHIPA\n",
    "    ctr = 0\n",
    "    for i in range(len(cD_LHt)):\n",
    "        if math.fabs(cD_LHt[i]) > 0: ctr += 1\n",
    "    LHIPA = float(ctr)/tt\n",
    "    \n",
    "    return LHIPA"
   ]
  },
  {
   "cell_type": "code",
   "execution_count": null,
   "id": "dc560026-b6ee-45cd-a1e8-006d68f0a6da",
   "metadata": {},
   "outputs": [],
   "source": []
  }
 ],
 "metadata": {
  "kernelspec": {
   "display_name": "Python 3 (ipykernel)",
   "language": "python",
   "name": "python3"
  },
  "language_info": {
   "codemirror_mode": {
    "name": "ipython",
    "version": 3
   },
   "file_extension": ".py",
   "mimetype": "text/x-python",
   "name": "python",
   "nbconvert_exporter": "python",
   "pygments_lexer": "ipython3",
   "version": "3.8.12"
  }
 },
 "nbformat": 4,
 "nbformat_minor": 5
}
